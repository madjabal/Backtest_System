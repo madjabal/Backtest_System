{
 "cells": [
  {
   "cell_type": "code",
   "execution_count": 1,
   "metadata": {},
   "outputs": [],
   "source": [
    "import yfinance as yf\n",
    "import pandas as pd\n",
    "from datetime import datetime\n",
    "import os\n",
    "from time import sleep\n",
    "from dateutil.relativedelta import relativedelta\n",
    "import sklearn as sk\n",
    "from sklearn.preprocessing import StandardScaler\n",
    "import seaborn as sns"
   ]
  },
  {
   "cell_type": "code",
   "execution_count": 2,
   "metadata": {},
   "outputs": [],
   "source": [
    "import backtest as bt"
   ]
  },
  {
   "cell_type": "code",
   "execution_count": 3,
   "metadata": {},
   "outputs": [
    {
     "name": "stdout",
     "output_type": "stream",
     "text": [
      "CPU times: user 28 ms, sys: 54 µs, total: 28.1 ms\n",
      "Wall time: 27.4 ms\n"
     ]
    }
   ],
   "source": [
    "%%time\n",
    "start_date = '2015-01-01'\n",
    "snp = bt.build_snp(start_date)\n",
    "bt.get_data(snp) # 5min 17s with get_new = True"
   ]
  },
  {
   "cell_type": "code",
   "execution_count": 4,
   "metadata": {},
   "outputs": [
    {
     "name": "stdout",
     "output_type": "stream",
     "text": [
      "CPU times: user 1 µs, sys: 0 ns, total: 1 µs\n",
      "Wall time: 2.15 µs\n"
     ]
    }
   ],
   "source": [
    "%%time\n",
    "# bt.build_data('1mo') 3min 16s"
   ]
  },
  {
   "cell_type": "code",
   "execution_count": 5,
   "metadata": {},
   "outputs": [
    {
     "name": "stdout",
     "output_type": "stream",
     "text": [
      "CPU times: user 1e+03 ns, sys: 0 ns, total: 1e+03 ns\n",
      "Wall time: 1.91 µs\n"
     ]
    }
   ],
   "source": [
    "%%time\n",
    "# bt.build_returns('1mo') # 1.48 s"
   ]
  },
  {
   "cell_type": "code",
   "execution_count": 6,
   "metadata": {},
   "outputs": [
    {
     "name": "stdout",
     "output_type": "stream",
     "text": [
      "CPU times: user 2 µs, sys: 0 ns, total: 2 µs\n",
      "Wall time: 3.34 µs\n"
     ]
    }
   ],
   "source": [
    "%%time\n",
    "# bt.build_returns('1d') # 12.4 s"
   ]
  },
  {
   "cell_type": "code",
   "execution_count": 7,
   "metadata": {},
   "outputs": [],
   "source": [
    "port_params = {\n",
    "    'tickers': snp, \n",
    "    'interval': '1mo', \n",
    "    'hist_depth': 5, \n",
    "    'train_depth': 5, \n",
    "    'features': ['Return', 'Volume'], \n",
    "    'start_date': '2015-01-01', \n",
    "    'end_date': '2019-12-01'\n",
    "}\n",
    "\n",
    "port = bt.Backtest(**port_params)"
   ]
  },
  {
   "cell_type": "code",
   "execution_count": 8,
   "metadata": {},
   "outputs": [],
   "source": [
    "tickers = port.tickers\n",
    "d = port.portfolio"
   ]
  },
  {
   "cell_type": "code",
   "execution_count": 9,
   "metadata": {},
   "outputs": [],
   "source": [
    "from sklearn.ensemble import RandomForestRegressor"
   ]
  },
  {
   "cell_type": "code",
   "execution_count": 10,
   "metadata": {},
   "outputs": [],
   "source": [
    "rfr = RandomForestRegressor(n_estimators=100, n_jobs=-1)"
   ]
  },
  {
   "cell_type": "code",
   "execution_count": null,
   "metadata": {},
   "outputs": [],
   "source": []
  },
  {
   "cell_type": "code",
   "execution_count": 11,
   "metadata": {},
   "outputs": [],
   "source": [
    "model = rfr"
   ]
  },
  {
   "cell_type": "code",
   "execution_count": 12,
   "metadata": {},
   "outputs": [
    {
     "name": "stdout",
     "output_type": "stream",
     "text": [
      "2015-01-01 -0.04143 1.93\n",
      "2015-02-01 0.0873 1.66\n",
      "2015-03-01 -0.03816 1.71\n",
      "2015-04-01 0.04828 1.66\n",
      "2015-05-01 -0.03195 1.73\n",
      "2015-06-01 -0.05814 1.65\n",
      "2015-07-01 -0.01422 1.71\n",
      "2015-08-01 -0.03143 1.81\n",
      "2015-09-01 -0.00926 1.71\n",
      "2015-10-01 0.07102 1.67\n",
      "2015-11-01 -0.01699 1.68\n",
      "2015-12-01 -0.04424 1.72\n",
      "2016-01-01 -0.03604 1.7\n",
      "2016-02-01 -9e-05 1.7\n",
      "2016-03-01 0.13078 1.68\n",
      "2016-04-01 0.20811 1.7\n",
      "2016-05-01 0.03565 1.72\n",
      "2016-06-01 0.03131 1.67\n",
      "2016-07-01 0.05277 1.76\n",
      "2016-08-01 -0.00579 1.73\n",
      "2016-09-01 -0.00011 1.71\n",
      "2016-10-01 -0.04324 1.76\n",
      "2016-11-01 0.1822 1.66\n",
      "2016-12-01 0.02374 1.72\n",
      "2017-01-01 0.02669 1.7\n",
      "2017-02-01 0.00567 1.67\n",
      "2017-03-01 -0.03203 1.76\n",
      "2017-04-01 0.01084 1.72\n",
      "2017-05-01 0.03037 1.81\n",
      "2017-06-01 0.02787 1.71\n",
      "2017-07-01 0.10906 1.7\n",
      "2017-08-01 -0.00463 1.72\n",
      "2017-09-01 0.09249 1.69\n",
      "2017-10-01 0.02533 1.71\n",
      "2017-11-01 -0.00173 1.68\n",
      "2017-12-01 0.02341 1.78\n",
      "2018-01-01 0.00616 1.73\n",
      "2018-02-01 -0.05283 1.67\n",
      "2018-03-01 0.11788 1.77\n",
      "2018-04-01 0.03231 1.75\n",
      "2018-05-01 0.13381 1.71\n",
      "2018-06-01 -0.00084 1.71\n",
      "TWX 2018-07-01\n",
      "2018-07-01 0.02666 1.76\n",
      "2018-08-01 0.03454 1.71\n",
      "2018-09-01 0.02332 1.72\n",
      "2018-10-01 -0.06924 1.66\n",
      "2018-11-01 0.03236 1.72\n",
      "2018-12-01 -0.14974 1.67\n",
      "2019-01-01 0.14033 1.71\n",
      "2019-02-01 0.03983 1.72\n",
      "2019-03-01 0.01292 1.7\n",
      "2019-04-01 0.02534 1.72\n",
      "2019-05-01 -0.15832 1.68\n",
      "2019-06-01 0.10417 1.67\n",
      "CA 2019-07-01\n",
      "2019-07-01 -0.03126 1.72\n",
      "2019-08-01 -0.07523 1.67\n",
      "2019-09-01 0.02106 1.71\n",
      "2019-10-01 0.00651 1.71\n",
      "2019-11-01 0.0088 1.67\n",
      "2019-12-01 0.13275 1.69\n"
     ]
    }
   ],
   "source": [
    "output = port.backtest(model)"
   ]
  },
  {
   "cell_type": "code",
   "execution_count": null,
   "metadata": {},
   "outputs": [],
   "source": []
  }
 ],
 "metadata": {
  "kernelspec": {
   "display_name": "Python 3",
   "language": "python",
   "name": "python3"
  },
  "language_info": {
   "codemirror_mode": {
    "name": "ipython",
    "version": 3
   },
   "file_extension": ".py",
   "mimetype": "text/x-python",
   "name": "python",
   "nbconvert_exporter": "python",
   "pygments_lexer": "ipython3",
   "version": "3.7.9"
  }
 },
 "nbformat": 4,
 "nbformat_minor": 4
}
