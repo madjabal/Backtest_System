{
 "cells": [
  {
   "cell_type": "code",
   "execution_count": 32,
   "metadata": {},
   "outputs": [],
   "source": [
    "import yfinance as yf\n",
    "import pandas as pd\n",
    "from datetime import datetime\n",
    "import os\n",
    "from time import sleep"
   ]
  },
  {
   "cell_type": "code",
   "execution_count": 11,
   "metadata": {},
   "outputs": [],
   "source": [
    "date_format = '%B %d, %Y'\n",
    "data_path = 'data/'"
   ]
  },
  {
   "cell_type": "code",
   "execution_count": 12,
   "metadata": {},
   "outputs": [],
   "source": [
    "def update_snp_store():\n",
    "    data_path = 'data/'\n",
    "    curr_raw = pd.read_html('https://en.wikipedia.org/wiki/List_of_S%26P_500_companies')\n",
    "    \n",
    "    curr = curr_raw[0]\n",
    "    hist = curr_raw[1]\n",
    "    \n",
    "    new_hist = pd.DataFrame(hist['Date'])\n",
    "    new_hist['Added'] = hist['Added', 'Ticker']\n",
    "    new_hist['Removed'] = hist['Removed', 'Ticker']\n",
    "    \n",
    "    curr.to_csv(data_path + 'snp_current.csv', index=False)\n",
    "    new_hist.to_csv(data_path + 'snp_hist.csv', index=False)\n",
    "    return None\n",
    "\n",
    "\n",
    "def get_snp(date, date_format):\n",
    "    data_path = 'data/'\n",
    "    curr = pd.read_csv(data_path + 'snp_current.csv')\n",
    "    hist = pd.read_csv(data_path + 'snp_hist.csv')\n",
    "    \n",
    "    start_date = datetime.strptime(date, date_format)\n",
    "    \n",
    "    snp_set = set(curr['Symbol'])\n",
    "    \n",
    "    for i in range(len(hist)):\n",
    "        temp_date = datetime.strptime(hist.iloc[i]['Date'], date_format)\n",
    "        if temp_date < start_date:\n",
    "            break\n",
    "\n",
    "        tb_removed = hist.iloc[i]['Added']\n",
    "        tb_added = hist.iloc[i]['Removed']\n",
    "\n",
    "        if tb_removed in snp_set:\n",
    "            snp_set.remove(tb_removed)\n",
    "        if not type(tb_added) == float:\n",
    "            snp_set.add(tb_added)\n",
    "    \n",
    "    return list(snp_set)"
   ]
  },
  {
   "cell_type": "code",
   "execution_count": 40,
   "metadata": {},
   "outputs": [],
   "source": [
    "def get_data(tickers):\n",
    "    data_path = 'data/'\n",
    "    start = '2000-01-01'\n",
    "    interval = '1mo'\n",
    "    prefix = 'monthly/'\n",
    "    \n",
    "    bad_tickers = []\n",
    "    \n",
    "    for ticker in tickers:\n",
    "        ticker_label = ticker + '.csv'\n",
    "        curr_tickers = set(os.listdir(data_path + prefix))\n",
    "        \n",
    "        if ticker_label not in curr_tickers:\n",
    "            temp_ticker = yf.Ticker(ticker)\n",
    "            temp_hist = temp_ticker.history(start=start, interval=interval)\n",
    "            temp_hist.dropna(axis=0, inplace=True)\n",
    "            temp_hist.to_csv(data_path + prefix + ticker_label)\n",
    "            \n",
    "            if len(temp_hist) < 90:\n",
    "                bad_tickers.append((ticker, len(temp_hist)))\n",
    "            print(ticker, len(temp_hist))\n",
    "            sleep(4)\n",
    "    return bad_tickers"
   ]
  },
  {
   "cell_type": "code",
   "execution_count": 41,
   "metadata": {},
   "outputs": [],
   "source": [
    "universe = get_snp('January 1, 2015', date_format)"
   ]
  },
  {
   "cell_type": "code",
   "execution_count": 42,
   "metadata": {},
   "outputs": [
    {
     "data": {
      "text/plain": [
       "'\\nWIN - \\nKRFT - Delisted\\nESRX - \\n\\n\\n\\n\\n'"
      ]
     },
     "execution_count": 42,
     "metadata": {},
     "output_type": "execute_result"
    }
   ],
   "source": [
    "\"\"\"\n",
    "WIN - \n",
    "KRFT - Delisted\n",
    "ESRX - \n",
    "ALTR - \n",
    "SIAL - \n",
    "BCR - \n",
    "DPS - \n",
    "CA - \n",
    "FDO - \n",
    "BRCM - \n",
    "DTV - \n",
    "WRK - \n",
    "ADT - \n",
    "\"\"\""
   ]
  },
  {
   "cell_type": "code",
   "execution_count": 49,
   "metadata": {},
   "outputs": [
    {
     "data": {
      "text/plain": [
       "[]"
      ]
     },
     "execution_count": 49,
     "metadata": {},
     "output_type": "execute_result"
    }
   ],
   "source": [
    "get_data(universe)"
   ]
  },
  {
   "cell_type": "code",
   "execution_count": 45,
   "metadata": {},
   "outputs": [],
   "source": [
    "bad_tickers = [('WIN', 1), ('KRFT', 0), ('ESRX', 0), ('ALTR', 32), ('SIAL', 0), ('BCR', 0), ('DPS', 0), ('CA', 0), ('FDO', 0), ('BRCM', 0), ('DTV', 0), ('WRK', 61), ('ADT', 30),\n",
    "               ('SNI', 0), ('RAI', 0), ('GMCR', 0), ('APC', 0), ('SE', 33), ('NFX', 81), ('YHOO', 0), ('ZTS', 89), ('TSS', 0), ('STJ', 0), ('CSC', 0), ('BRK.B', 0), ('RHT', 0),\n",
    "               ('FOXA', 16), ('SCG', 58), ('GAS', 0), ('SWY', 0), ('WFM', 0), ('CFN', 0), ('AET', 0), ('NLOK', 16), ('EMC', 0), ('HOT', 0), ('ESV', 0), ('XL', 0), ('MJN', 0),\n",
    "               ('CVC', 0), ('NAVI', 75), ('MON', 74), ('CAM', 0), ('PCP', 16), ('BF.B', 0), ('WYN', 0), ('NWSA', 85), ('COL', 0), ('HCBK', 0), ('ANDV', 0), ('IQV', 86),\n",
    "               ('DNB', 81), ('LVLT', 0), ('PETM', 1), ('VIAC', 12), ('LLTC', 0), ('SPLS', 0), ('CCE', 0), ('PCL', 42), ('PLL', 30), ('TE', 0), ('TEG', 0), ('TWC', 0), ('LLL', 0),\n",
    "               ('LO', 0), ('ARG', 0), ('COV', 0), ('HWM', 6), ('GGP', 0), ('VIAB', 0), ('SNDK', 0), ('ALLE', 80), ('CELG', 0), ('MNK', 85), ('JOY', 0), ('HAR', 0), ('IR', 37),\n",
    "               ('HSP', 0)]"
   ]
  },
  {
   "cell_type": "code",
   "execution_count": 46,
   "metadata": {},
   "outputs": [
    {
     "data": {
      "text/plain": [
       "78"
      ]
     },
     "execution_count": 46,
     "metadata": {},
     "output_type": "execute_result"
    }
   ],
   "source": [
    "len(bad_tickers)"
   ]
  },
  {
   "cell_type": "code",
   "execution_count": null,
   "metadata": {},
   "outputs": [],
   "source": []
  }
 ],
 "metadata": {
  "kernelspec": {
   "display_name": "Python 3.7.6 64-bit ('base': conda)",
   "language": "python",
   "name": "python37664bitbaseconda9e65c572ed0444d5bc39393b7e6857ff"
  },
  "language_info": {
   "codemirror_mode": {
    "name": "ipython",
    "version": 3
   },
   "file_extension": ".py",
   "mimetype": "text/x-python",
   "name": "python",
   "nbconvert_exporter": "python",
   "pygments_lexer": "ipython3",
   "version": "3.7.7"
  }
 },
 "nbformat": 4,
 "nbformat_minor": 4
}
